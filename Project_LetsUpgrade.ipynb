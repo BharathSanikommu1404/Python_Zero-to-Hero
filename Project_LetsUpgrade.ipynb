{
 "cells": [
  {
   "cell_type": "markdown",
   "id": "eb2d79cf",
   "metadata": {},
   "source": [
    "# Project\n",
    "- Develop a python based degree converter which takes °C value and give you output of °F \n",
    "Input - \n",
    "°C -> 50\n",
    "\n",
    "Output - \n",
    "°F -> 122 \n",
    "\n",
    "\n",
    "Formula for Conversion \n",
    "___°C × 9/5) + 32 = ___°F"
   ]
  },
  {
   "cell_type": "code",
   "execution_count": 2,
   "id": "07da9d35",
   "metadata": {},
   "outputs": [
    {
     "name": "stdout",
     "output_type": "stream",
     "text": [
      "Enter temperature in celsius: 50\n",
      "50.00 Celsius is: 122.00 Fahrenheit\n"
     ]
    }
   ],
   "source": [
    "celsius = float(input(\"Enter temperature in celsius: \"))\n",
    "fahrenheit = (celsius * 9/5) + 32\n",
    "print('%.2f Celsius is: %0.2f Fahrenheit' %(celsius, fahrenheit))"
   ]
  },
  {
   "cell_type": "code",
   "execution_count": null,
   "id": "0e9602c9",
   "metadata": {},
   "outputs": [],
   "source": []
  }
 ],
 "metadata": {
  "kernelspec": {
   "display_name": "Python 3",
   "language": "python",
   "name": "python3"
  },
  "language_info": {
   "codemirror_mode": {
    "name": "ipython",
    "version": 3
   },
   "file_extension": ".py",
   "mimetype": "text/x-python",
   "name": "python",
   "nbconvert_exporter": "python",
   "pygments_lexer": "ipython3",
   "version": "3.8.8"
  }
 },
 "nbformat": 4,
 "nbformat_minor": 5
}
