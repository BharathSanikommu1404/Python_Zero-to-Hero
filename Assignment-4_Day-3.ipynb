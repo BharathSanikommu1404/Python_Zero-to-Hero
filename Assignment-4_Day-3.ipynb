{
 "cells": [
  {
   "cell_type": "markdown",
   "id": "c96ce743",
   "metadata": {},
   "source": [
    "# Consider a person is represented by Pi, where i is the index of the following list.\n",
    "A list shows the person to whom person Pi has given the gift.\n",
    " \n",
    "Consider the below example:\n",
    "gift_presented_to = [2, 1, 5, 3, 4]\n",
    " \n",
    "This list is giving us the following details:\n",
    "Person P1 has given gift to person P2\n",
    "Person P2 has given gift to person P1\n",
    "Person P3 has given gift to person P5\n",
    "Person P4 has given gift to person P3\n",
    "Person P5 has given gift to person P4\n",
    " \n",
    "So for the given list, the list of persons from whom they have received the gift would be \n",
    "gift_received_from = [2, 1, 4, 5, 3]\n",
    " \n",
    "i.e.\n",
    "Person P1 has received gift from person P2\n",
    "Person P2 has received gift from person P1\n",
    "Person P3 has received gift from person P4\n",
    "Person P4 has received gift from person P5\n",
    "Person P5 has received gift from person P3\n",
    " \n",
    "Your task:\n",
    " \n",
    "Take input for the gift_presented_to[] list and print its respective gift_received_from[] list.\n",
    "\n"
   ]
  },
  {
   "cell_type": "code",
   "execution_count": 2,
   "id": "66c0933c",
   "metadata": {},
   "outputs": [
    {
     "name": "stdout",
     "output_type": "stream",
     "text": [
      "gift_presented_to: 7\n",
      "[7]\n",
      "Person P7 has received gift from Person P2\n"
     ]
    }
   ],
   "source": [
    "x = input('gift_presented_to: ')\n",
    "val = [int(i) for i in x.split()]\n",
    "print(val)\n",
    "\n",
    "gift_received_from = [2, 1, 4, 5, 3]\n",
    "\n",
    "for i in range(len(val)):\n",
    "  print(\"Person P\" + str(val[i])  + \" has received gift from Person P\" + str(gift_received_from[i]))"
   ]
  },
  {
   "cell_type": "code",
   "execution_count": null,
   "id": "fa97d073",
   "metadata": {},
   "outputs": [],
   "source": []
  }
 ],
 "metadata": {
  "kernelspec": {
   "display_name": "Python 3",
   "language": "python",
   "name": "python3"
  },
  "language_info": {
   "codemirror_mode": {
    "name": "ipython",
    "version": 3
   },
   "file_extension": ".py",
   "mimetype": "text/x-python",
   "name": "python",
   "nbconvert_exporter": "python",
   "pygments_lexer": "ipython3",
   "version": "3.8.8"
  }
 },
 "nbformat": 4,
 "nbformat_minor": 5
}
