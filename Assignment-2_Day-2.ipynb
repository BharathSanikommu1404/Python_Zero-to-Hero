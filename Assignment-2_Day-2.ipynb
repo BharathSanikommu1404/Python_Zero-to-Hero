{
 "cells": [
  {
   "cell_type": "markdown",
   "id": "da8d32a6",
   "metadata": {},
   "source": [
    "# remove all the occurence of the element from the list"
   ]
  },
  {
   "cell_type": "code",
   "execution_count": 1,
   "id": "9bd61053",
   "metadata": {},
   "outputs": [
    {
     "data": {
      "text/plain": [
       "[1, 2, 3, 5, 6]"
      ]
     },
     "execution_count": 1,
     "metadata": {},
     "output_type": "execute_result"
    }
   ],
   "source": [
    "x=[1,2,3,4,4,5,6,]\n",
    "list(filter(lambda a: a != 4, x))"
   ]
  },
  {
   "cell_type": "markdown",
   "id": "fec8bc0a",
   "metadata": {},
   "source": [
    "# Check whether the string is pangram\n"
   ]
  },
  {
   "cell_type": "code",
   "execution_count": 3,
   "id": "9d77d9f8",
   "metadata": {},
   "outputs": [
    {
     "name": "stdout",
     "output_type": "stream",
     "text": [
      "Yes\n"
     ]
    }
   ],
   "source": [
    "import string\n",
    " \n",
    "alphabet = set(string.ascii_lowercase)\n",
    "  \n",
    "def ispangram(string):\n",
    "    return set(string.lower()) >= alphabet\n",
    "      \n",
    "# Driver code\n",
    "string = \"The quick brown fox jumps over the lazy dog\"\n",
    "if(ispangram(string) == True):\n",
    "    print(\"Yes\")\n",
    "else:\n",
    "    print(\"No\")"
   ]
  },
  {
   "cell_type": "code",
   "execution_count": null,
   "id": "9771d93e",
   "metadata": {},
   "outputs": [],
   "source": []
  }
 ],
 "metadata": {
  "kernelspec": {
   "display_name": "Python 3",
   "language": "python",
   "name": "python3"
  },
  "language_info": {
   "codemirror_mode": {
    "name": "ipython",
    "version": 3
   },
   "file_extension": ".py",
   "mimetype": "text/x-python",
   "name": "python",
   "nbconvert_exporter": "python",
   "pygments_lexer": "ipython3",
   "version": "3.8.8"
  }
 },
 "nbformat": 4,
 "nbformat_minor": 5
}
