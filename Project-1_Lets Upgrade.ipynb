{
 "cells": [
  {
   "cell_type": "markdown",
   "id": "6c854081",
   "metadata": {},
   "source": [
    "# OTP Generation Project"
   ]
  },
  {
   "cell_type": "code",
   "execution_count": 4,
   "id": "57afd22f",
   "metadata": {},
   "outputs": [
    {
     "name": "stdout",
     "output_type": "stream",
     "text": [
      "abcdefghijklmnopqrstuvwxyzABCDEFGHIJKLMNOPQRSTUVWXYZ0123456789\n",
      "OTP: p\n",
      "OTP: pO\n",
      "OTP: pOy\n",
      "OTP: pOy5\n",
      "OTP: pOy5w\n",
      "OTP: pOy5wS\n",
      "OTP: pOy5wS5\n",
      "OTP: pOy5wS5H\n"
     ]
    }
   ],
   "source": [
    "import random as r\n",
    "import string\n",
    "length = 8\n",
    "otp = ''\n",
    "characters = string.ascii_letters + string.digits\n",
    "print(characters)\n",
    "for i in range(length):\n",
    "    otp = otp + r.choice(characters)\n",
    "    print(\"OTP:\", otp)"
   ]
  },
  {
   "cell_type": "code",
   "execution_count": null,
   "id": "aaf4e74f",
   "metadata": {},
   "outputs": [],
   "source": []
  }
 ],
 "metadata": {
  "kernelspec": {
   "display_name": "Python 3",
   "language": "python",
   "name": "python3"
  },
  "language_info": {
   "codemirror_mode": {
    "name": "ipython",
    "version": 3
   },
   "file_extension": ".py",
   "mimetype": "text/x-python",
   "name": "python",
   "nbconvert_exporter": "python",
   "pygments_lexer": "ipython3",
   "version": "3.8.8"
  }
 },
 "nbformat": 4,
 "nbformat_minor": 5
}
